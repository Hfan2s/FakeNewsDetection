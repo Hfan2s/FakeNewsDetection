{
 "cells": [
  {
   "cell_type": "markdown",
   "id": "9297c88c",
   "metadata": {},
   "source": [
    "# Text Classification Project\n",
    "\n",
    "This notebook uses text data to build a machine learning model that predicts binary labels (True/False) based on textual statements. We will preprocess the data, build a classification model, and evaluate its performance."
   ]
  },
  {
   "cell_type": "markdown",
   "id": "ec4e9651",
   "metadata": {},
   "source": [
    "## 1. Importing Libraries"
   ]
  },
  {
   "cell_type": "code",
   "execution_count": 22,
   "id": "39034778",
   "metadata": {},
   "outputs": [
    {
     "name": "stderr",
     "output_type": "stream",
     "text": [
      "[nltk_data] Downloading package stopwords to\n",
      "[nltk_data]     C:\\Users\\fanha\\AppData\\Roaming\\nltk_data...\n",
      "[nltk_data]   Package stopwords is already up-to-date!\n"
     ]
    }
   ],
   "source": [
    "import pandas as pd\n",
    "import numpy as np\n",
    "from sklearn.model_selection import train_test_split\n",
    "from sklearn.feature_extraction.text import TfidfVectorizer\n",
    "from sklearn.linear_model import LogisticRegression\n",
    "from sklearn.metrics import accuracy_score, confusion_matrix, classification_report\n",
    "\n",
    "import nltk\n",
    "nltk.download('stopwords')\n",
    "from nltk.corpus import stopwords"
   ]
  },
  {
   "cell_type": "markdown",
   "id": "c9ec5dab",
   "metadata": {},
   "source": [
    "## 2. Load and Explore the Data"
   ]
  },
  {
   "cell_type": "code",
   "execution_count": 25,
   "id": "f72a7fd4",
   "metadata": {},
   "outputs": [
    {
     "name": "stdout",
     "output_type": "stream",
     "text": [
      "                                           Statement  Label\n",
      "0  Says the Annies List political group supports ...  False\n",
      "1  When did the decline of coal start? It started...   True\n",
      "2  Hillary Clinton agrees with John McCain \"by vo...   True\n",
      "3  Health care reform legislation is likely to ma...  False\n",
      "4  The economic turnaround started at the end of ...   True\n"
     ]
    }
   ],
   "source": [
    "file_path = r\"C:\\Users\\fanha\\Downloads\\train.csv\"\n",
    "import pandas as pd\n",
    "data = pd.read_csv(file_path)\n",
    "print(data.head())\n"
   ]
  },
  {
   "cell_type": "markdown",
   "id": "13f56aff",
   "metadata": {},
   "source": [
    "## 3. Data Preprocessing\n",
    "- Tokenization\n",
    "- Stopword Removal\n",
    "- TF-IDF Vectorization"
   ]
  },
  {
   "cell_type": "code",
   "execution_count": 28,
   "id": "25d63ac4",
   "metadata": {},
   "outputs": [],
   "source": [
    "# Splitting data into features and target\n",
    "X = data['Statement']\n",
    "y = data['Label']\n",
    "\n",
    "# Train-test split\n",
    "X_train, X_test, y_train, y_test = train_test_split(X, y, test_size=0.2, random_state=42)\n",
    "\n",
    "# Text vectorization with TF-IDF\n",
    "vectorizer = TfidfVectorizer(stop_words=stopwords.words('english'))\n",
    "X_train_tfidf = vectorizer.fit_transform(X_train)\n",
    "X_test_tfidf = vectorizer.transform(X_test)"
   ]
  },
  {
   "cell_type": "markdown",
   "id": "cc882584",
   "metadata": {},
   "source": [
    "## 4. Model Training: Logistic Regression"
   ]
  },
  {
   "cell_type": "code",
   "execution_count": 31,
   "id": "aa1d60ae",
   "metadata": {},
   "outputs": [],
   "source": [
    "# Initialize and train the logistic regression model\n",
    "model = LogisticRegression()\n",
    "model.fit(X_train_tfidf, y_train)\n",
    "\n",
    "# Predictions\n",
    "y_pred = model.predict(X_test_tfidf)"
   ]
  },
  {
   "cell_type": "markdown",
   "id": "2bf32b9f",
   "metadata": {},
   "source": [
    "## 5. Model Evaluation"
   ]
  },
  {
   "cell_type": "code",
   "execution_count": 34,
   "id": "f36a66dc",
   "metadata": {},
   "outputs": [
    {
     "name": "stdout",
     "output_type": "stream",
     "text": [
      "Accuracy: 0.60\n",
      "\n",
      "Confusion Matrix:\n",
      " [[395 493]\n",
      " [316 844]]\n",
      "\n",
      "Classification Report:\n",
      "               precision    recall  f1-score   support\n",
      "\n",
      "       False       0.56      0.44      0.49       888\n",
      "        True       0.63      0.73      0.68      1160\n",
      "\n",
      "    accuracy                           0.60      2048\n",
      "   macro avg       0.59      0.59      0.59      2048\n",
      "weighted avg       0.60      0.60      0.60      2048\n",
      "\n"
     ]
    }
   ],
   "source": [
    "# Evaluate the model\n",
    "accuracy = accuracy_score(y_test, y_pred)\n",
    "conf_matrix = confusion_matrix(y_test, y_pred)\n",
    "class_report = classification_report(y_test, y_pred)\n",
    "\n",
    "print(f'Accuracy: {accuracy:.2f}')\n",
    "print('\\nConfusion Matrix:\\n', conf_matrix)\n",
    "print('\\nClassification Report:\\n', class_report)"
   ]
  },
  {
   "cell_type": "markdown",
   "id": "ab3df754",
   "metadata": {},
   "source": [
    "## 6. Predicting New Samples"
   ]
  },
  {
   "cell_type": "code",
   "execution_count": 37,
   "id": "e72b8b6a",
   "metadata": {},
   "outputs": [
    {
     "name": "stdout",
     "output_type": "stream",
     "text": [
      "Statement: The economy is improving significantly this year.\n",
      "Predicted Label: True\n",
      "\n",
      "Statement: The healthcare policy will harm small businesses.\n",
      "Predicted Label: False\n",
      "\n"
     ]
    }
   ],
   "source": [
    "# Example new statements for prediction\n",
    "new_statements = [\n",
    "    'The economy is improving significantly this year.',\n",
    "    'The healthcare policy will harm small businesses.'\n",
    "]\n",
    "\n",
    "# Transform the new statements\n",
    "new_statements_tfidf = vectorizer.transform(new_statements)\n",
    "\n",
    "# Predict\n",
    "predictions = model.predict(new_statements_tfidf)\n",
    "\n",
    "# Show predictions\n",
    "for statement, label in zip(new_statements, predictions):\n",
    "    print(f'Statement: {statement}\\nPredicted Label: {label}\\n')"
   ]
  },
  {
   "cell_type": "code",
   "execution_count": null,
   "id": "421fe48a-dc07-4de5-87ab-1b755a4b6170",
   "metadata": {},
   "outputs": [],
   "source": []
  },
  {
   "cell_type": "code",
   "execution_count": null,
   "id": "a5fe1de7-9a3e-4cc7-bbf2-7b443c319f5f",
   "metadata": {},
   "outputs": [],
   "source": []
  }
 ],
 "metadata": {
  "kernelspec": {
   "display_name": "Python [conda env:base] *",
   "language": "python",
   "name": "conda-base-py"
  },
  "language_info": {
   "codemirror_mode": {
    "name": "ipython",
    "version": 3
   },
   "file_extension": ".py",
   "mimetype": "text/x-python",
   "name": "python",
   "nbconvert_exporter": "python",
   "pygments_lexer": "ipython3",
   "version": "3.12.7"
  }
 },
 "nbformat": 4,
 "nbformat_minor": 5
}
